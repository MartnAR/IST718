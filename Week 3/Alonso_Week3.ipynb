{
 "cells": [
  {
   "cell_type": "code",
   "execution_count": 56,
   "metadata": {},
   "outputs": [],
   "source": [
    "import pandas as pd\n",
    "import numpy as np \n",
    "import matplotlib.pyplot as plt\n",
    "import seaborn as sns\n",
    "from sklearn.linear_model import LogisticRegression\n",
    "from sklearn.preprocessing import OneHotEncoder"
   ]
  },
  {
   "cell_type": "code",
   "execution_count": 4,
   "metadata": {},
   "outputs": [
    {
     "name": "stdout",
     "output_type": "stream",
     "text": [
      "(16, 9)\n",
      "<class 'pandas.core.frame.DataFrame'>\n",
      "RangeIndex: 16 entries, 0 to 15\n",
      "Data columns (total 9 columns):\n",
      "brand      16 non-null object\n",
      "startup    16 non-null object\n",
      "monthly    16 non-null object\n",
      "service    16 non-null object\n",
      "retail     16 non-null object\n",
      "apple      16 non-null object\n",
      "samsung    16 non-null object\n",
      "google     16 non-null object\n",
      "ranking    16 non-null int64\n",
      "dtypes: int64(1), object(8)\n",
      "memory usage: 1.2+ KB\n",
      "None\n",
      "           brand startup monthly   service        retail        apple  \\\n",
      "0         \"AT&T\"  \"$100\"  \"$100\"   \"4G NO\"   \"Retail NO\"   \"Apple NO\"   \n",
      "1      \"Verizon\"  \"$300\"  \"$100\"   \"4G NO\"  \"Retail YES\"  \"Apple YES\"   \n",
      "2  \"US Cellular\"  \"$400\"  \"$200\"   \"4G NO\"   \"Retail NO\"   \"Apple NO\"   \n",
      "3      \"Verizon\"  \"$400\"  \"$400\"  \"4G YES\"  \"Retail YES\"   \"Apple NO\"   \n",
      "4      \"Verizon\"  \"$200\"  \"$300\"   \"4G NO\"   \"Retail NO\"   \"Apple NO\"   \n",
      "\n",
      "         samsung       google  ranking  \n",
      "0   \"Samsung NO\"   \"Nexus NO\"       11  \n",
      "1  \"Samsung YES\"   \"Nexus NO\"       12  \n",
      "2  \"Samsung YES\"   \"Nexus NO\"        9  \n",
      "3   \"Samsung NO\"   \"Nexus NO\"        2  \n",
      "4  \"Samsung YES\"  \"Nexus YES\"        8  \n"
     ]
    }
   ],
   "source": [
    "# Import data set and do initial exploration\n",
    "df = pd.read_csv('mobile_services_ranking.csv')\n",
    "print(df.shape)\n",
    "print(df.info())\n",
    "print(df.head())"
   ]
  },
  {
   "cell_type": "code",
   "execution_count": 26,
   "metadata": {},
   "outputs": [
    {
     "data": {
      "text/html": [
       "<div>\n",
       "<style scoped>\n",
       "    .dataframe tbody tr th:only-of-type {\n",
       "        vertical-align: middle;\n",
       "    }\n",
       "\n",
       "    .dataframe tbody tr th {\n",
       "        vertical-align: top;\n",
       "    }\n",
       "\n",
       "    .dataframe thead th {\n",
       "        text-align: right;\n",
       "    }\n",
       "</style>\n",
       "<table border=\"1\" class=\"dataframe\">\n",
       "  <thead>\n",
       "    <tr style=\"text-align: right;\">\n",
       "      <th></th>\n",
       "      <th>brand</th>\n",
       "      <th>startup</th>\n",
       "      <th>monthly</th>\n",
       "      <th>service4g</th>\n",
       "      <th>retail</th>\n",
       "      <th>apple</th>\n",
       "      <th>samsung</th>\n",
       "      <th>nexus</th>\n",
       "      <th>ranking</th>\n",
       "    </tr>\n",
       "  </thead>\n",
       "  <tbody>\n",
       "    <tr>\n",
       "      <th>0</th>\n",
       "      <td>\"AT&amp;T\"</td>\n",
       "      <td>100.0</td>\n",
       "      <td>100.0</td>\n",
       "      <td>NO</td>\n",
       "      <td>NO</td>\n",
       "      <td>NO</td>\n",
       "      <td>NO</td>\n",
       "      <td>NO</td>\n",
       "      <td>11</td>\n",
       "    </tr>\n",
       "    <tr>\n",
       "      <th>1</th>\n",
       "      <td>\"Verizon\"</td>\n",
       "      <td>300.0</td>\n",
       "      <td>100.0</td>\n",
       "      <td>NO</td>\n",
       "      <td>YES</td>\n",
       "      <td>YES</td>\n",
       "      <td>YES</td>\n",
       "      <td>NO</td>\n",
       "      <td>12</td>\n",
       "    </tr>\n",
       "    <tr>\n",
       "      <th>2</th>\n",
       "      <td>\"US Cellular\"</td>\n",
       "      <td>400.0</td>\n",
       "      <td>200.0</td>\n",
       "      <td>NO</td>\n",
       "      <td>NO</td>\n",
       "      <td>NO</td>\n",
       "      <td>YES</td>\n",
       "      <td>NO</td>\n",
       "      <td>9</td>\n",
       "    </tr>\n",
       "    <tr>\n",
       "      <th>3</th>\n",
       "      <td>\"Verizon\"</td>\n",
       "      <td>400.0</td>\n",
       "      <td>400.0</td>\n",
       "      <td>YES</td>\n",
       "      <td>YES</td>\n",
       "      <td>NO</td>\n",
       "      <td>NO</td>\n",
       "      <td>NO</td>\n",
       "      <td>2</td>\n",
       "    </tr>\n",
       "    <tr>\n",
       "      <th>4</th>\n",
       "      <td>\"Verizon\"</td>\n",
       "      <td>200.0</td>\n",
       "      <td>300.0</td>\n",
       "      <td>NO</td>\n",
       "      <td>NO</td>\n",
       "      <td>NO</td>\n",
       "      <td>YES</td>\n",
       "      <td>YES</td>\n",
       "      <td>8</td>\n",
       "    </tr>\n",
       "  </tbody>\n",
       "</table>\n",
       "</div>"
      ],
      "text/plain": [
       "           brand  startup  monthly service4g retail apple samsung nexus  \\\n",
       "0         \"AT&T\"    100.0    100.0        NO     NO    NO      NO    NO   \n",
       "1      \"Verizon\"    300.0    100.0        NO    YES   YES     YES    NO   \n",
       "2  \"US Cellular\"    400.0    200.0        NO     NO    NO     YES    NO   \n",
       "3      \"Verizon\"    400.0    400.0       YES    YES    NO      NO    NO   \n",
       "4      \"Verizon\"    200.0    300.0        NO     NO    NO     YES   YES   \n",
       "\n",
       "   ranking  \n",
       "0       11  \n",
       "1       12  \n",
       "2        9  \n",
       "3        2  \n",
       "4        8  "
      ]
     },
     "execution_count": 26,
     "metadata": {},
     "output_type": "execute_result"
    }
   ],
   "source": [
    "# Rename df columns and clean data set for better analysis. \n",
    "df.columns = ['brand', 'startup', 'monthly', 'service4g', 'retail', 'apple', 'samsung', 'nexus', \n",
    "              'ranking']\n",
    "\n",
    "# Remove quotation marks and dollar sign to convert startup and monthly columns to numeric. \n",
    "df['startup'] = df['startup'].replace('[\"$]', '', regex=True).astype(str).astype(float)\n",
    "df['monthly'] = df['monthly'].replace('[\"$]', '', regex=True).astype(str).astype(float)\n",
    "\n",
    "# Retain YES-NO for following columns to allow for easier understanding and one-hot encoding. \n",
    "to_clean = ['service4g', 'retail', 'apple', 'samsung', 'nexus']\n",
    "for i in to_clean:\n",
    "    df[i] = df[i].replace('^[A-Za-z0-9]*\\s+', '', regex=True)\n",
    "    df[i] = df[i].replace('\"', '', regex=True)\n",
    "\n",
    "# Display cleaned dataframe. \n",
    "df.head()"
   ]
  },
  {
   "cell_type": "code",
   "execution_count": 33,
   "metadata": {},
   "outputs": [
    {
     "data": {
      "image/png": "[encoded data removed]",
      "text/plain": [
       "<Figure size 432x288 with 2 Axes>"
      ]
     },
     "metadata": {
      "needs_background": "light"
     },
     "output_type": "display_data"
    }
   ],
   "source": [
    "# Plots to view how startup and monthly payments affect rank. \n",
    "plt.subplot(2, 1, 1)\n",
    "sns.scatterplot(x='startup', y='ranking', data=df, hue='brand')\n",
    "_ = plt.legend(loc='center right', bbox_to_anchor = [1.35, 0.5])\n",
    "_ = plt.xlabel('Startup Payment')\n",
    "_ = plt.ylabel('Rank')\n",
    "_ = plt.xticks(np.arange(100, 401, 100))\n",
    "\n",
    "plt.subplot(2, 1, 2)\n",
    "sns.scatterplot(x='monthly', y='ranking', data=df, hue='brand')\n",
    "_ = plt.legend(loc='center right', bbox_to_anchor = [1.35, 0.5])\n",
    "_ = plt.xlabel('Monthly Payment')\n",
    "_ = plt.ylabel('Rank')\n",
    "_ = plt.xticks(np.arange(100, 401, 100))\n",
    "\n",
    "plt.show()"
   ]
  },
  {
   "cell_type": "markdown",
   "metadata": {},
   "source": [
    "It's interesting that Startup payment (top graph) doesn't appear to have an effect on rank but monthly payment does. Higher monthly payments have lower ranks, meaning that people may be willing to pay a high monthly payment for better services provided, regardless of the carrier.  "
   ]
  }
 ],
 "metadata": {
  "kernelspec": {
   "display_name": "Python 3",
   "language": "python",
   "name": "python3"
  },
  "language_info": {
   "codemirror_mode": {
    "name": "ipython",
    "version": 3
   },
   "file_extension": ".py",
   "mimetype": "text/x-python",
   "name": "python",
   "nbconvert_exporter": "python",
   "pygments_lexer": "ipython3",
   "version": "3.7.2"
  }
 },
 "nbformat": 4,
 "nbformat_minor": 2
}
