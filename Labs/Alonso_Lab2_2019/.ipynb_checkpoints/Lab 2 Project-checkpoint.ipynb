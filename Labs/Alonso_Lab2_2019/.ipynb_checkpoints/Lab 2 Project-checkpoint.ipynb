{
 "cells": [
  {
   "cell_type": "code",
   "execution_count": 1,
   "metadata": {},
   "outputs": [
    {
     "name": "stdout",
     "output_type": "stream",
     "text": [
      "Waiting for a Spark session to start...\n",
      "Spark Initialization Done! ApplicationId = app-20190218011157-0003\n",
      "KERNEL_ID = 5212cb09-3cdd-4dba-9f8e-4b413242fb82\n"
     ]
    },
    {
     "name": "stderr",
     "output_type": "stream",
     "text": [
      "/opt/ibm/conda/miniconda3/lib/python3.5/site-packages/statsmodels/compat/pandas.py:56: FutureWarning: The pandas.core.datetools module is deprecated and will be removed in a future version. Please use the pandas.tseries module instead.\n",
      "  from pandas.core import datetools\n"
     ]
    }
   ],
   "source": [
    "# Import required packages.\n",
    "from statsmodels.graphics.tsaplots import plot_acf, plot_pacf\n",
    "from statsmodels.tsa.arima_model import ARIMA\n",
    "from botocore.client import Config\n",
    "import matplotlib.pyplot as plt\n",
    "import seaborn as sns; sns.set()\n",
    "import statsmodels.api as sm\n",
    "import pandas as pd\n",
    "import numpy as np\n",
    "import ibm_boto3\n",
    "import itertools\n",
    "import types\n",
    "import math\n",
    "\n",
    "%matplotlib inline "
   ]
  },
  {
   "cell_type": "markdown",
   "metadata": {},
   "source": [
    "### Data Munging and Cleansing  \n",
    "\n",
    "We'll start by importing the data sets that we'll use:\n",
    "1. Data set containing data for every city in the U.S. plus average household value between the periods of April, 1996 and December, 2018. \n",
    "2. Data set containing zip codes for every metropolitan area in the U.S.  \n",
    "  \n",
    "After the data has been imported, we'll start cleaning it, replacing missing values within the data, and tidying the data in accordance to Hadley Wickham's _Tidy Data_ paper (2012, https://vita.had.co.nz/papers/tidy-data.pdf).  \n",
    "Finally, we'll make sure that each variable within the data is in accordance to it's data type. "
   ]
  },
  {
   "cell_type": "code",
   "execution_count": 2,
   "metadata": {
    "scrolled": true
   },
   "outputs": [
    {
     "data": {
      "text/html": [
       "<div>\n",
       "<style scoped>\n",
       "    .dataframe tbody tr th:only-of-type {\n",
       "        vertical-align: middle;\n",
       "    }\n",
       "\n",
       "    .dataframe tbody tr th {\n",
       "        vertical-align: top;\n",
       "    }\n",
       "\n",
       "    .dataframe thead th {\n",
       "        text-align: right;\n",
       "    }\n",
       "</style>\n",
       "<table border=\"1\" class=\"dataframe\">\n",
       "  <thead>\n",
       "    <tr style=\"text-align: right;\">\n",
       "      <th></th>\n",
       "      <th>RegionID</th>\n",
       "      <th>RegionName</th>\n",
       "      <th>City</th>\n",
       "      <th>State</th>\n",
       "      <th>Metro</th>\n",
       "      <th>CountyName</th>\n",
       "      <th>SizeRank</th>\n",
       "      <th>1996-04</th>\n",
       "      <th>1996-05</th>\n",
       "      <th>1996-06</th>\n",
       "      <th>...</th>\n",
       "      <th>2018-03</th>\n",
       "      <th>2018-04</th>\n",
       "      <th>2018-05</th>\n",
       "      <th>2018-06</th>\n",
       "      <th>2018-07</th>\n",
       "      <th>2018-08</th>\n",
       "      <th>2018-09</th>\n",
       "      <th>2018-10</th>\n",
       "      <th>2018-11</th>\n",
       "      <th>2018-12</th>\n",
       "    </tr>\n",
       "  </thead>\n",
       "  <tbody>\n",
       "    <tr>\n",
       "      <th>0</th>\n",
       "      <td>84654</td>\n",
       "      <td>60657</td>\n",
       "      <td>Chicago</td>\n",
       "      <td>IL</td>\n",
       "      <td>Chicago-Naperville-Elgin</td>\n",
       "      <td>Cook County</td>\n",
       "      <td>1</td>\n",
       "      <td>334200.0</td>\n",
       "      <td>335400.0</td>\n",
       "      <td>336500.0</td>\n",
       "      <td>...</td>\n",
       "      <td>1037400</td>\n",
       "      <td>1038700</td>\n",
       "      <td>1041500</td>\n",
       "      <td>1042800</td>\n",
       "      <td>1042900</td>\n",
       "      <td>1044400</td>\n",
       "      <td>1047800</td>\n",
       "      <td>1049700</td>\n",
       "      <td>1048300</td>\n",
       "      <td>1047900</td>\n",
       "    </tr>\n",
       "    <tr>\n",
       "      <th>1</th>\n",
       "      <td>91982</td>\n",
       "      <td>77494</td>\n",
       "      <td>Katy</td>\n",
       "      <td>TX</td>\n",
       "      <td>Houston-The Woodlands-Sugar Land</td>\n",
       "      <td>Harris County</td>\n",
       "      <td>2</td>\n",
       "      <td>210400.0</td>\n",
       "      <td>212200.0</td>\n",
       "      <td>212200.0</td>\n",
       "      <td>...</td>\n",
       "      <td>330400</td>\n",
       "      <td>332700</td>\n",
       "      <td>334500</td>\n",
       "      <td>335900</td>\n",
       "      <td>337000</td>\n",
       "      <td>338300</td>\n",
       "      <td>338400</td>\n",
       "      <td>336900</td>\n",
       "      <td>336000</td>\n",
       "      <td>336500</td>\n",
       "    </tr>\n",
       "    <tr>\n",
       "      <th>2</th>\n",
       "      <td>84616</td>\n",
       "      <td>60614</td>\n",
       "      <td>Chicago</td>\n",
       "      <td>IL</td>\n",
       "      <td>Chicago-Naperville-Elgin</td>\n",
       "      <td>Cook County</td>\n",
       "      <td>3</td>\n",
       "      <td>498100.0</td>\n",
       "      <td>500900.0</td>\n",
       "      <td>503100.0</td>\n",
       "      <td>...</td>\n",
       "      <td>1317900</td>\n",
       "      <td>1321100</td>\n",
       "      <td>1325300</td>\n",
       "      <td>1323800</td>\n",
       "      <td>1321200</td>\n",
       "      <td>1320700</td>\n",
       "      <td>1319500</td>\n",
       "      <td>1318800</td>\n",
       "      <td>1319700</td>\n",
       "      <td>1323300</td>\n",
       "    </tr>\n",
       "    <tr>\n",
       "      <th>3</th>\n",
       "      <td>93144</td>\n",
       "      <td>79936</td>\n",
       "      <td>El Paso</td>\n",
       "      <td>TX</td>\n",
       "      <td>El Paso</td>\n",
       "      <td>El Paso County</td>\n",
       "      <td>4</td>\n",
       "      <td>77300.0</td>\n",
       "      <td>77300.0</td>\n",
       "      <td>77300.0</td>\n",
       "      <td>...</td>\n",
       "      <td>120800</td>\n",
       "      <td>121300</td>\n",
       "      <td>122200</td>\n",
       "      <td>123000</td>\n",
       "      <td>123600</td>\n",
       "      <td>124500</td>\n",
       "      <td>125600</td>\n",
       "      <td>126300</td>\n",
       "      <td>126800</td>\n",
       "      <td>127400</td>\n",
       "    </tr>\n",
       "    <tr>\n",
       "      <th>4</th>\n",
       "      <td>91940</td>\n",
       "      <td>77449</td>\n",
       "      <td>Katy</td>\n",
       "      <td>TX</td>\n",
       "      <td>Houston-The Woodlands-Sugar Land</td>\n",
       "      <td>Harris County</td>\n",
       "      <td>5</td>\n",
       "      <td>95400.0</td>\n",
       "      <td>95600.0</td>\n",
       "      <td>95800.0</td>\n",
       "      <td>...</td>\n",
       "      <td>175500</td>\n",
       "      <td>176400</td>\n",
       "      <td>176900</td>\n",
       "      <td>176900</td>\n",
       "      <td>177300</td>\n",
       "      <td>178000</td>\n",
       "      <td>178500</td>\n",
       "      <td>179300</td>\n",
       "      <td>180200</td>\n",
       "      <td>180700</td>\n",
       "    </tr>\n",
       "  </tbody>\n",
       "</table>\n",
       "<p>5 rows × 280 columns</p>\n",
       "</div>"
      ],
      "text/plain": [
       "   RegionID  RegionName     City State                             Metro  \\\n",
       "0     84654       60657  Chicago    IL          Chicago-Naperville-Elgin   \n",
       "1     91982       77494     Katy    TX  Houston-The Woodlands-Sugar Land   \n",
       "2     84616       60614  Chicago    IL          Chicago-Naperville-Elgin   \n",
       "3     93144       79936  El Paso    TX                           El Paso   \n",
       "4     91940       77449     Katy    TX  Houston-The Woodlands-Sugar Land   \n",
       "\n",
       "       CountyName  SizeRank   1996-04   1996-05   1996-06   ...     2018-03  \\\n",
       "0     Cook County         1  334200.0  335400.0  336500.0   ...     1037400   \n",
       "1   Harris County         2  210400.0  212200.0  212200.0   ...      330400   \n",
       "2     Cook County         3  498100.0  500900.0  503100.0   ...     1317900   \n",
       "3  El Paso County         4   77300.0   77300.0   77300.0   ...      120800   \n",
       "4   Harris County         5   95400.0   95600.0   95800.0   ...      175500   \n",
       "\n",
       "   2018-04  2018-05  2018-06  2018-07  2018-08  2018-09  2018-10  2018-11  \\\n",
       "0  1038700  1041500  1042800  1042900  1044400  1047800  1049700  1048300   \n",
       "1   332700   334500   335900   337000   338300   338400   336900   336000   \n",
       "2  1321100  1325300  1323800  1321200  1320700  1319500  1318800  1319700   \n",
       "3   121300   122200   123000   123600   124500   125600   126300   126800   \n",
       "4   176400   176900   176900   177300   178000   178500   179300   180200   \n",
       "\n",
       "   2018-12  \n",
       "0  1047900  \n",
       "1   336500  \n",
       "2  1323300  \n",
       "3   127400  \n",
       "4   180700  \n",
       "\n",
       "[5 rows x 280 columns]"
      ]
     },
     "execution_count": 2,
     "metadata": {},
     "output_type": "execute_result"
    }
   ],
   "source": [
    "def __iter__(self): return 0\n",
    "\n",
    "# @hidden_cell\n",
    "# The following code accesses a file in your IBM Cloud Object Storage. It includes your credentials.\n",
    "# You might want to remove those credentials before you share your notebook.\n",
    "client_e11fb05be7c9453f918a75717a46b2dc = ibm_boto3.client(service_name='s3',\n",
    "    ibm_api_key_id='jmLng0SAo5GXd9hH8-hJnZ0v5oVnB8EW-ICcZvrG4Bmb',\n",
    "    ibm_auth_endpoint=\"https://iam.bluemix.net/oidc/token\",\n",
    "    config=Config(signature_version='oauth'),\n",
    "    endpoint_url='https://s3-api.us-geo.objectstorage.service.networklayer.com')\n",
    "\n",
    "body = client_e11fb05be7c9453f918a75717a46b2dc.get_object(Bucket='alonsolab2-donotdelete-pr-j2ailudz9y9jee',Key='Zip_Zhvi_SingleFamilyResidence.csv')['Body']\n",
    "# add missing __iter__ method, so pandas accepts body as file-like object\n",
    "if not hasattr(body, \"__iter__\"): body.__iter__ = types.MethodType( __iter__, body )\n",
    "\n",
    "# Load the data; encoding changed to ISO-8859-1 to avoid loading errors. \n",
    "df_data_1 = pd.read_csv(body, encoding = \"ISO-8859-1\")\n",
    "df_data_1.head()"
   ]
  },
  {
   "cell_type": "markdown",
   "metadata": {},
   "source": [
    "The data was loaded correctly but, we must now first check for any missing variables. We'll test only on the `1996-04` variable since it's the first observation and the most likely to have any missing data. "
   ]
  },
  {
   "cell_type": "code",
   "execution_count": 3,
   "metadata": {
    "scrolled": false
   },
   "outputs": [
    {
     "name": "stdout",
     "output_type": "stream",
     "text": [
      "RegionID         0\n",
      "RegionName       0\n",
      "City             0\n",
      "State            0\n",
      "Metro         1403\n",
      "CountyName       0\n",
      "SizeRank         0\n",
      "1996-04       1170\n",
      "1996-05       1170\n",
      "1996-06       1170\n",
      "1996-07       1170\n",
      "1996-08       1170\n",
      "1996-09       1170\n",
      "1996-10       1170\n",
      "1996-11       1170\n",
      "1996-12       1170\n",
      "1997-01       1170\n",
      "1997-02       1170\n",
      "1997-03       1170\n",
      "1997-04       1170\n",
      "1997-05       1170\n",
      "1997-06       1170\n",
      "1997-07       1169\n",
      "1997-08       1169\n",
      "1997-09       1169\n",
      "1997-10       1169\n",
      "1997-11       1169\n",
      "1997-12       1169\n",
      "1998-01       1167\n",
      "1998-02       1167\n",
      "              ... \n",
      "2016-07          0\n",
      "2016-08          0\n",
      "2016-09          0\n",
      "2016-10          0\n",
      "2016-11          0\n",
      "2016-12          0\n",
      "2017-01          0\n",
      "2017-02          0\n",
      "2017-03          0\n",
      "2017-04          0\n",
      "2017-05          0\n",
      "2017-06          0\n",
      "2017-07          0\n",
      "2017-08          0\n",
      "2017-09          0\n",
      "2017-10          0\n",
      "2017-11          0\n",
      "2017-12          0\n",
      "2018-01          0\n",
      "2018-02          0\n",
      "2018-03          0\n",
      "2018-04          0\n",
      "2018-05          0\n",
      "2018-06          0\n",
      "2018-07          0\n",
      "2018-08          0\n",
      "2018-09          0\n",
      "2018-10          0\n",
      "2018-11          0\n",
      "2018-12          0\n",
      "Length: 280, dtype: int64\n"
     ]
    }
   ],
   "source": [
    "na_values = df_data_1.isna().sum()\n",
    "print(na_values)"
   ]
  },
  {
   "cell_type": "markdown",
   "metadata": {},
   "source": [
    "Between 1996 and, at least, 1998, we have 1,167 missing records. These could be potentially filled by replacing the missing values with the average value for each metropolitan area. However, we also have 1,403 missing metropolitan. Using data obtained from `https://www.dol.gov/owcp/regs/feeschedule/fee/fee11`, we'll try to fill these missing data. "
   ]
  },
  {
   "cell_type": "code",
   "execution_count": 4,
   "metadata": {},
   "outputs": [
    {
     "data": {
      "text/html": [
       "<div>\n",
       "<style scoped>\n",
       "    .dataframe tbody tr th:only-of-type {\n",
       "        vertical-align: middle;\n",
       "    }\n",
       "\n",
       "    .dataframe tbody tr th {\n",
       "        vertical-align: top;\n",
       "    }\n",
       "\n",
       "    .dataframe thead th {\n",
       "        text-align: right;\n",
       "    }\n",
       "</style>\n",
       "<table border=\"1\" class=\"dataframe\">\n",
       "  <thead>\n",
       "    <tr style=\"text-align: right;\">\n",
       "      <th></th>\n",
       "      <th>ZIP CODE</th>\n",
       "      <th>STATE</th>\n",
       "      <th>MSA No.</th>\n",
       "      <th>GPCI</th>\n",
       "      <th>GPCI.1</th>\n",
       "      <th>GPCI.2</th>\n",
       "      <th>County No.</th>\n",
       "      <th>MSA Name</th>\n",
       "    </tr>\n",
       "  </thead>\n",
       "  <tbody>\n",
       "    <tr>\n",
       "      <th>0</th>\n",
       "      <td>76443.0</td>\n",
       "      <td>TX</td>\n",
       "      <td>10180.0</td>\n",
       "      <td>1.0</td>\n",
       "      <td>0.943</td>\n",
       "      <td>0.936</td>\n",
       "      <td>59.0</td>\n",
       "      <td>Abilene</td>\n",
       "    </tr>\n",
       "    <tr>\n",
       "      <th>1</th>\n",
       "      <td>76469.0</td>\n",
       "      <td>TX</td>\n",
       "      <td>10180.0</td>\n",
       "      <td>1.0</td>\n",
       "      <td>0.943</td>\n",
       "      <td>0.936</td>\n",
       "      <td>59.0</td>\n",
       "      <td>Abilene</td>\n",
       "    </tr>\n",
       "    <tr>\n",
       "      <th>2</th>\n",
       "      <td>79501.0</td>\n",
       "      <td>TX</td>\n",
       "      <td>10180.0</td>\n",
       "      <td>1.0</td>\n",
       "      <td>0.943</td>\n",
       "      <td>0.936</td>\n",
       "      <td>253.0</td>\n",
       "      <td>Abilene</td>\n",
       "    </tr>\n",
       "    <tr>\n",
       "      <th>3</th>\n",
       "      <td>79503.0</td>\n",
       "      <td>TX</td>\n",
       "      <td>10180.0</td>\n",
       "      <td>1.0</td>\n",
       "      <td>0.943</td>\n",
       "      <td>0.936</td>\n",
       "      <td>253.0</td>\n",
       "      <td>Abilene</td>\n",
       "    </tr>\n",
       "    <tr>\n",
       "      <th>4</th>\n",
       "      <td>79504.0</td>\n",
       "      <td>TX</td>\n",
       "      <td>10180.0</td>\n",
       "      <td>1.0</td>\n",
       "      <td>0.943</td>\n",
       "      <td>0.936</td>\n",
       "      <td>59.0</td>\n",
       "      <td>Abilene</td>\n",
       "    </tr>\n",
       "  </tbody>\n",
       "</table>\n",
       "</div>"
      ],
      "text/plain": [
       "   ZIP CODE STATE  MSA No.  GPCI  GPCI.1  GPCI.2  County No. MSA Name\n",
       "0   76443.0    TX  10180.0   1.0   0.943   0.936        59.0  Abilene\n",
       "1   76469.0    TX  10180.0   1.0   0.943   0.936        59.0  Abilene\n",
       "2   79501.0    TX  10180.0   1.0   0.943   0.936       253.0  Abilene\n",
       "3   79503.0    TX  10180.0   1.0   0.943   0.936       253.0  Abilene\n",
       "4   79504.0    TX  10180.0   1.0   0.943   0.936        59.0  Abilene"
      ]
     },
     "execution_count": 4,
     "metadata": {},
     "output_type": "execute_result"
    }
   ],
   "source": [
    "# Load Metropolitan data \n",
    "body = client_e11fb05be7c9453f918a75717a46b2dc.get_object(Bucket='alonsolab2-donotdelete-pr-j2ailudz9y9jee',Key='fs11_gpci_by_msa-zip.csv')['Body']\n",
    "# add missing __iter__ method, so pandas accepts body as file-like object\n",
    "if not hasattr(body, \"__iter__\"): body.__iter__ = types.MethodType( __iter__, body )\n",
    "\n",
    "metro_area = pd.read_csv(body)\n",
    "metro_area.head()"
   ]
  },
  {
   "cell_type": "markdown",
   "metadata": {},
   "source": [
    "We'll now take the observations with missing metro name, merge them with the new metro_area dataframe, and paste it back to the original data set. "
   ]
  },
  {
   "cell_type": "code",
   "execution_count": 5,
   "metadata": {
    "scrolled": false
   },
   "outputs": [],
   "source": [
    "# Keep data with missing metro name. \n",
    "missing_metro = df_data_1[df_data_1['Metro'].isna()]\n",
    "missing_index = missing_metro.index\n",
    "\n",
    "# Drop observation without Metro data. These observations will then be reattached\n",
    "df_metro_complete = df_data_1.drop(index=missing_index)\n",
    "\n",
    "# Keep zip code and msa name from the metro_area data set\n",
    "metro_area_simp = metro_area[['ZIP CODE', 'MSA Name']]\n",
    "\n",
    "# Merge missing metro with metro_area_simp \n",
    "metro_complete = missing_metro.merge(metro_area_simp, how='left', left_on='RegionName', right_on='ZIP CODE')\n"
   ]
  },
  {
   "cell_type": "code",
   "execution_count": 6,
   "metadata": {},
   "outputs": [
    {
     "name": "stdout",
     "output_type": "stream",
     "text": [
      "0\n",
      "(15508, 280)\n"
     ]
    }
   ],
   "source": [
    "# Check to see that there are no NaN variables in the new column. \n",
    "print(metro_complete['MSA Name'].isna().sum())\n",
    "\n",
    "# There are no NaN values now. We'll now replace the Metro column with the MSA Name column, drop the overlapping columns, and \n",
    "# reattach the observations to the df_data_1 data set. \n",
    "metro_complete['Metro'] = metro_complete['MSA Name']\n",
    "metro_complete1 = metro_complete.iloc[:, 0:280]\n",
    "\n",
    "# Reattach data to original data. \n",
    "df_data_1 = df_metro_complete.append(metro_complete1)\n",
    "print(df_data_1.shape)"
   ]
  },
  {
   "cell_type": "markdown",
   "metadata": {},
   "source": [
    "With the Metro data completed, we'll now replace the remaining NaN observations with the average value per Metropolitan area. "
   ]
  },
  {
   "cell_type": "code",
   "execution_count": 7,
   "metadata": {},
   "outputs": [],
   "source": [
    "# Obtain column names of year-month combinations. \n",
    "year_month = df_data_1.iloc[:, 7:].columns.values\n",
    "\n",
    "df_data_2 = df_data_1\n",
    "\n",
    "# Iterate over year-month combination, replacing NaN with average value for metropolitan area \n",
    "for ym in df_data_2[year_month]:\n",
    "    df_data_2[ym] = df_data_2.groupby('Metro')[ym].transform(lambda x: x.fillna(x.mean()))"
   ]
  },
  {
   "cell_type": "code",
   "execution_count": 8,
   "metadata": {},
   "outputs": [
    {
     "data": {
      "text/html": [
       "<div>\n",
       "<style scoped>\n",
       "    .dataframe tbody tr th:only-of-type {\n",
       "        vertical-align: middle;\n",
       "    }\n",
       "\n",
       "    .dataframe tbody tr th {\n",
       "        vertical-align: top;\n",
       "    }\n",
       "\n",
       "    .dataframe thead th {\n",
       "        text-align: right;\n",
       "    }\n",
       "</style>\n",
       "<table border=\"1\" class=\"dataframe\">\n",
       "  <thead>\n",
       "    <tr style=\"text-align: right;\">\n",
       "      <th></th>\n",
       "      <th>RegionID</th>\n",
       "      <th>SizeRank</th>\n",
       "      <th>1996-04</th>\n",
       "      <th>1996-05</th>\n",
       "      <th>1996-06</th>\n",
       "      <th>1996-07</th>\n",
       "      <th>1996-08</th>\n",
       "      <th>1996-09</th>\n",
       "      <th>1996-10</th>\n",
       "      <th>1996-11</th>\n",
       "      <th>...</th>\n",
       "      <th>2018-03</th>\n",
       "      <th>2018-04</th>\n",
       "      <th>2018-05</th>\n",
       "      <th>2018-06</th>\n",
       "      <th>2018-07</th>\n",
       "      <th>2018-08</th>\n",
       "      <th>2018-09</th>\n",
       "      <th>2018-10</th>\n",
       "      <th>2018-11</th>\n",
       "      <th>2018-12</th>\n",
       "    </tr>\n",
       "  </thead>\n",
       "  <tbody>\n",
       "    <tr>\n",
       "      <th>count</th>\n",
       "      <td>15508.000000</td>\n",
       "      <td>15508.000000</td>\n",
       "      <td>1.532400e+04</td>\n",
       "      <td>1.532400e+04</td>\n",
       "      <td>1.532400e+04</td>\n",
       "      <td>1.532400e+04</td>\n",
       "      <td>1.532400e+04</td>\n",
       "      <td>1.532400e+04</td>\n",
       "      <td>1.532400e+04</td>\n",
       "      <td>1.532400e+04</td>\n",
       "      <td>...</td>\n",
       "      <td>1.550800e+04</td>\n",
       "      <td>1.550800e+04</td>\n",
       "      <td>1.550800e+04</td>\n",
       "      <td>1.550800e+04</td>\n",
       "      <td>1.550800e+04</td>\n",
       "      <td>1.550800e+04</td>\n",
       "      <td>1.550800e+04</td>\n",
       "      <td>1.550800e+04</td>\n",
       "      <td>1.550800e+04</td>\n",
       "      <td>1.550800e+04</td>\n",
       "    </tr>\n",
       "    <tr>\n",
       "      <th>mean</th>\n",
       "      <td>80789.618326</td>\n",
       "      <td>7754.500000</td>\n",
       "      <td>1.139273e+05</td>\n",
       "      <td>1.140465e+05</td>\n",
       "      <td>1.141640e+05</td>\n",
       "      <td>1.142787e+05</td>\n",
       "      <td>1.144039e+05</td>\n",
       "      <td>1.145477e+05</td>\n",
       "      <td>1.147352e+05</td>\n",
       "      <td>1.149523e+05</td>\n",
       "      <td>...</td>\n",
       "      <td>2.793596e+05</td>\n",
       "      <td>2.806727e+05</td>\n",
       "      <td>2.821487e+05</td>\n",
       "      <td>2.834464e+05</td>\n",
       "      <td>2.844663e+05</td>\n",
       "      <td>2.855002e+05</td>\n",
       "      <td>2.867173e+05</td>\n",
       "      <td>2.880293e+05</td>\n",
       "      <td>2.891875e+05</td>\n",
       "      <td>2.901066e+05</td>\n",
       "    </tr>\n",
       "    <tr>\n",
       "      <th>std</th>\n",
       "      <td>31521.484956</td>\n",
       "      <td>4476.918323</td>\n",
       "      <td>8.336502e+04</td>\n",
       "      <td>8.350475e+04</td>\n",
       "      <td>8.364497e+04</td>\n",
       "      <td>8.378947e+04</td>\n",
       "      <td>8.395736e+04</td>\n",
       "      <td>8.416134e+04</td>\n",
       "      <td>8.442109e+04</td>\n",
       "      <td>8.472647e+04</td>\n",
       "      <td>...</td>\n",
       "      <td>3.618684e+05</td>\n",
       "      <td>3.613606e+05</td>\n",
       "      <td>3.631021e+05</td>\n",
       "      <td>3.653018e+05</td>\n",
       "      <td>3.662779e+05</td>\n",
       "      <td>3.670956e+05</td>\n",
       "      <td>3.667725e+05</td>\n",
       "      <td>3.646242e+05</td>\n",
       "      <td>3.611431e+05</td>\n",
       "      <td>3.591327e+05</td>\n",
       "    </tr>\n",
       "    <tr>\n",
       "      <th>min</th>\n",
       "      <td>58196.000000</td>\n",
       "      <td>1.000000</td>\n",
       "      <td>1.130000e+04</td>\n",
       "      <td>1.150000e+04</td>\n",
       "      <td>1.160000e+04</td>\n",
       "      <td>1.180000e+04</td>\n",
       "      <td>1.180000e+04</td>\n",
       "      <td>1.200000e+04</td>\n",
       "      <td>1.210000e+04</td>\n",
       "      <td>1.220000e+04</td>\n",
       "      <td>...</td>\n",
       "      <td>2.170000e+04</td>\n",
       "      <td>2.170000e+04</td>\n",
       "      <td>2.210000e+04</td>\n",
       "      <td>2.220000e+04</td>\n",
       "      <td>2.200000e+04</td>\n",
       "      <td>2.180000e+04</td>\n",
       "      <td>2.170000e+04</td>\n",
       "      <td>2.150000e+04</td>\n",
       "      <td>2.160000e+04</td>\n",
       "      <td>2.190000e+04</td>\n",
       "    </tr>\n",
       "    <tr>\n",
       "      <th>25%</th>\n",
       "      <td>67215.000000</td>\n",
       "      <td>3877.750000</td>\n",
       "      <td>6.537538e+04</td>\n",
       "      <td>6.560000e+04</td>\n",
       "      <td>6.570000e+04</td>\n",
       "      <td>6.577500e+04</td>\n",
       "      <td>6.587500e+04</td>\n",
       "      <td>6.610000e+04</td>\n",
       "      <td>6.620000e+04</td>\n",
       "      <td>6.637500e+04</td>\n",
       "      <td>...</td>\n",
       "      <td>1.283000e+05</td>\n",
       "      <td>1.288000e+05</td>\n",
       "      <td>1.296750e+05</td>\n",
       "      <td>1.303000e+05</td>\n",
       "      <td>1.311000e+05</td>\n",
       "      <td>1.319000e+05</td>\n",
       "      <td>1.329000e+05</td>\n",
       "      <td>1.340000e+05</td>\n",
       "      <td>1.351000e+05</td>\n",
       "      <td>1.356000e+05</td>\n",
       "    </tr>\n",
       "    <tr>\n",
       "      <th>50%</th>\n",
       "      <td>77886.500000</td>\n",
       "      <td>7754.500000</td>\n",
       "      <td>9.480000e+04</td>\n",
       "      <td>9.493382e+04</td>\n",
       "      <td>9.510000e+04</td>\n",
       "      <td>9.520000e+04</td>\n",
       "      <td>9.530000e+04</td>\n",
       "      <td>9.530000e+04</td>\n",
       "      <td>9.550000e+04</td>\n",
       "      <td>9.560000e+04</td>\n",
       "      <td>...</td>\n",
       "      <td>1.911000e+05</td>\n",
       "      <td>1.921500e+05</td>\n",
       "      <td>1.934000e+05</td>\n",
       "      <td>1.946000e+05</td>\n",
       "      <td>1.957000e+05</td>\n",
       "      <td>1.969000e+05</td>\n",
       "      <td>1.981000e+05</td>\n",
       "      <td>1.996000e+05</td>\n",
       "      <td>2.011000e+05</td>\n",
       "      <td>2.021500e+05</td>\n",
       "    </tr>\n",
       "    <tr>\n",
       "      <th>75%</th>\n",
       "      <td>90314.250000</td>\n",
       "      <td>11631.250000</td>\n",
       "      <td>1.378000e+05</td>\n",
       "      <td>1.378000e+05</td>\n",
       "      <td>1.381000e+05</td>\n",
       "      <td>1.381000e+05</td>\n",
       "      <td>1.381000e+05</td>\n",
       "      <td>1.382000e+05</td>\n",
       "      <td>1.386000e+05</td>\n",
       "      <td>1.389250e+05</td>\n",
       "      <td>...</td>\n",
       "      <td>3.107500e+05</td>\n",
       "      <td>3.123000e+05</td>\n",
       "      <td>3.143250e+05</td>\n",
       "      <td>3.161000e+05</td>\n",
       "      <td>3.174250e+05</td>\n",
       "      <td>3.183250e+05</td>\n",
       "      <td>3.198000e+05</td>\n",
       "      <td>3.212000e+05</td>\n",
       "      <td>3.224250e+05</td>\n",
       "      <td>3.239000e+05</td>\n",
       "    </tr>\n",
       "    <tr>\n",
       "      <th>max</th>\n",
       "      <td>753844.000000</td>\n",
       "      <td>15508.000000</td>\n",
       "      <td>3.676700e+06</td>\n",
       "      <td>3.704200e+06</td>\n",
       "      <td>3.729600e+06</td>\n",
       "      <td>3.754600e+06</td>\n",
       "      <td>3.781800e+06</td>\n",
       "      <td>3.813500e+06</td>\n",
       "      <td>3.849600e+06</td>\n",
       "      <td>3.888900e+06</td>\n",
       "      <td>...</td>\n",
       "      <td>1.772470e+07</td>\n",
       "      <td>1.740890e+07</td>\n",
       "      <td>1.745050e+07</td>\n",
       "      <td>1.772280e+07</td>\n",
       "      <td>1.800670e+07</td>\n",
       "      <td>1.827380e+07</td>\n",
       "      <td>1.833190e+07</td>\n",
       "      <td>1.813190e+07</td>\n",
       "      <td>1.759490e+07</td>\n",
       "      <td>1.711960e+07</td>\n",
       "    </tr>\n",
       "  </tbody>\n",
       "</table>\n",
       "<p>8 rows × 275 columns</p>\n",
       "</div>"
      ],
      "text/plain": [
       "            RegionID      SizeRank       1996-04       1996-05       1996-06  \\\n",
       "count   15508.000000  15508.000000  1.532400e+04  1.532400e+04  1.532400e+04   \n",
       "mean    80789.618326   7754.500000  1.139273e+05  1.140465e+05  1.141640e+05   \n",
       "std     31521.484956   4476.918323  8.336502e+04  8.350475e+04  8.364497e+04   \n",
       "min     58196.000000      1.000000  1.130000e+04  1.150000e+04  1.160000e+04   \n",
       "25%     67215.000000   3877.750000  6.537538e+04  6.560000e+04  6.570000e+04   \n",
       "50%     77886.500000   7754.500000  9.480000e+04  9.493382e+04  9.510000e+04   \n",
       "75%     90314.250000  11631.250000  1.378000e+05  1.378000e+05  1.381000e+05   \n",
       "max    753844.000000  15508.000000  3.676700e+06  3.704200e+06  3.729600e+06   \n",
       "\n",
       "            1996-07       1996-08       1996-09       1996-10       1996-11  \\\n",
       "count  1.532400e+04  1.532400e+04  1.532400e+04  1.532400e+04  1.532400e+04   \n",
       "mean   1.142787e+05  1.144039e+05  1.145477e+05  1.147352e+05  1.149523e+05   \n",
       "std    8.378947e+04  8.395736e+04  8.416134e+04  8.442109e+04  8.472647e+04   \n",
       "min    1.180000e+04  1.180000e+04  1.200000e+04  1.210000e+04  1.220000e+04   \n",
       "25%    6.577500e+04  6.587500e+04  6.610000e+04  6.620000e+04  6.637500e+04   \n",
       "50%    9.520000e+04  9.530000e+04  9.530000e+04  9.550000e+04  9.560000e+04   \n",
       "75%    1.381000e+05  1.381000e+05  1.382000e+05  1.386000e+05  1.389250e+05   \n",
       "max    3.754600e+06  3.781800e+06  3.813500e+06  3.849600e+06  3.888900e+06   \n",
       "\n",
       "           ...            2018-03       2018-04       2018-05       2018-06  \\\n",
       "count      ...       1.550800e+04  1.550800e+04  1.550800e+04  1.550800e+04   \n",
       "mean       ...       2.793596e+05  2.806727e+05  2.821487e+05  2.834464e+05   \n",
       "std        ...       3.618684e+05  3.613606e+05  3.631021e+05  3.653018e+05   \n",
       "min        ...       2.170000e+04  2.170000e+04  2.210000e+04  2.220000e+04   \n",
       "25%        ...       1.283000e+05  1.288000e+05  1.296750e+05  1.303000e+05   \n",
       "50%        ...       1.911000e+05  1.921500e+05  1.934000e+05  1.946000e+05   \n",
       "75%        ...       3.107500e+05  3.123000e+05  3.143250e+05  3.161000e+05   \n",
       "max        ...       1.772470e+07  1.740890e+07  1.745050e+07  1.772280e+07   \n",
       "\n",
       "            2018-07       2018-08       2018-09       2018-10       2018-11  \\\n",
       "count  1.550800e+04  1.550800e+04  1.550800e+04  1.550800e+04  1.550800e+04   \n",
       "mean   2.844663e+05  2.855002e+05  2.867173e+05  2.880293e+05  2.891875e+05   \n",
       "std    3.662779e+05  3.670956e+05  3.667725e+05  3.646242e+05  3.611431e+05   \n",
       "min    2.200000e+04  2.180000e+04  2.170000e+04  2.150000e+04  2.160000e+04   \n",
       "25%    1.311000e+05  1.319000e+05  1.329000e+05  1.340000e+05  1.351000e+05   \n",
       "50%    1.957000e+05  1.969000e+05  1.981000e+05  1.996000e+05  2.011000e+05   \n",
       "75%    3.174250e+05  3.183250e+05  3.198000e+05  3.212000e+05  3.224250e+05   \n",
       "max    1.800670e+07  1.827380e+07  1.833190e+07  1.813190e+07  1.759490e+07   \n",
       "\n",
       "            2018-12  \n",
       "count  1.550800e+04  \n",
       "mean   2.901066e+05  \n",
       "std    3.591327e+05  \n",
       "min    2.190000e+04  \n",
       "25%    1.356000e+05  \n",
       "50%    2.021500e+05  \n",
       "75%    3.239000e+05  \n",
       "max    1.711960e+07  \n",
       "\n",
       "[8 rows x 275 columns]"
      ]
     },
     "execution_count": 8,
     "metadata": {},
     "output_type": "execute_result"
    }
   ],
   "source": [
    "df_data_2.describe()"
   ]
  },
  {
   "cell_type": "markdown",
   "metadata": {},
   "source": [
    "There still appear to be some missing data but it's a much lower number than the original missing data, 184 missing observations in total.  \n",
    "\n",
    "With the data cleaned, we will continue with our research. The data has region id, region name, city, state, metro, county name, size rank and date as variables. Furthermore, each date has an observation for each zipcode. This is not ideal tidy data, as each observation should be unique. The data will be pivoted to have all the date variables become observations."
   ]
  },
  {
   "cell_type": "code",
   "execution_count": 9,
   "metadata": {
    "scrolled": false
   },
   "outputs": [
    {
     "data": {
      "text/html": [
       "<div>\n",
       "<style scoped>\n",
       "    .dataframe tbody tr th:only-of-type {\n",
       "        vertical-align: middle;\n",
       "    }\n",
       "\n",
       "    .dataframe tbody tr th {\n",
       "        vertical-align: top;\n",
       "    }\n",
       "\n",
       "    .dataframe thead th {\n",
       "        text-align: right;\n",
       "    }\n",
       "</style>\n",
       "<table border=\"1\" class=\"dataframe\">\n",
       "  <thead>\n",
       "    <tr style=\"text-align: right;\">\n",
       "      <th></th>\n",
       "      <th>date</th>\n",
       "      <th>RegionID</th>\n",
       "      <th>RegionName</th>\n",
       "      <th>City</th>\n",
       "      <th>State</th>\n",
       "      <th>Metro</th>\n",
       "      <th>CountyName</th>\n",
       "      <th>SizeRank</th>\n",
       "      <th>value</th>\n",
       "    </tr>\n",
       "  </thead>\n",
       "  <tbody>\n",
       "    <tr>\n",
       "      <th>0</th>\n",
       "      <td>1996-04-01</td>\n",
       "      <td>58196</td>\n",
       "      <td>1001</td>\n",
       "      <td>Agawam</td>\n",
       "      <td>MA</td>\n",
       "      <td>Springfield</td>\n",
       "      <td>Hampden County</td>\n",
       "      <td>5957</td>\n",
       "      <td>113100.0</td>\n",
       "    </tr>\n",
       "    <tr>\n",
       "      <th>15508</th>\n",
       "      <td>1996-05-01</td>\n",
       "      <td>58196</td>\n",
       "      <td>1001</td>\n",
       "      <td>Agawam</td>\n",
       "      <td>MA</td>\n",
       "      <td>Springfield</td>\n",
       "      <td>Hampden County</td>\n",
       "      <td>5957</td>\n",
       "      <td>112800.0</td>\n",
       "    </tr>\n",
       "    <tr>\n",
       "      <th>31016</th>\n",
       "      <td>1996-06-01</td>\n",
       "      <td>58196</td>\n",
       "      <td>1001</td>\n",
       "      <td>Agawam</td>\n",
       "      <td>MA</td>\n",
       "      <td>Springfield</td>\n",
       "      <td>Hampden County</td>\n",
       "      <td>5957</td>\n",
       "      <td>112600.0</td>\n",
       "    </tr>\n",
       "    <tr>\n",
       "      <th>46524</th>\n",
       "      <td>1996-07-01</td>\n",
       "      <td>58196</td>\n",
       "      <td>1001</td>\n",
       "      <td>Agawam</td>\n",
       "      <td>MA</td>\n",
       "      <td>Springfield</td>\n",
       "      <td>Hampden County</td>\n",
       "      <td>5957</td>\n",
       "      <td>112300.0</td>\n",
       "    </tr>\n",
       "    <tr>\n",
       "      <th>62032</th>\n",
       "      <td>1996-08-01</td>\n",
       "      <td>58196</td>\n",
       "      <td>1001</td>\n",
       "      <td>Agawam</td>\n",
       "      <td>MA</td>\n",
       "      <td>Springfield</td>\n",
       "      <td>Hampden County</td>\n",
       "      <td>5957</td>\n",
       "      <td>112100.0</td>\n",
       "    </tr>\n",
       "  </tbody>\n",
       "</table>\n",
       "</div>"
      ],
      "text/plain": [
       "            date  RegionID  RegionName    City State        Metro  \\\n",
       "0     1996-04-01     58196        1001  Agawam    MA  Springfield   \n",
       "15508 1996-05-01     58196        1001  Agawam    MA  Springfield   \n",
       "31016 1996-06-01     58196        1001  Agawam    MA  Springfield   \n",
       "46524 1996-07-01     58196        1001  Agawam    MA  Springfield   \n",
       "62032 1996-08-01     58196        1001  Agawam    MA  Springfield   \n",
       "\n",
       "           CountyName  SizeRank     value  \n",
       "0      Hampden County      5957  113100.0  \n",
       "15508  Hampden County      5957  112800.0  \n",
       "31016  Hampden County      5957  112600.0  \n",
       "46524  Hampden County      5957  112300.0  \n",
       "62032  Hampden County      5957  112100.0  "
      ]
     },
     "execution_count": 9,
     "metadata": {},
     "output_type": "execute_result"
    }
   ],
   "source": [
    "# Columns that want to be kept\n",
    "to_keep = ['RegionID', 'RegionName', 'City', 'State', 'Metro', 'CountyName', 'SizeRank']\n",
    "\n",
    "# Columns to be converted to observations\n",
    "to_obs = df_data_2.iloc[:, 7:]\n",
    "\n",
    "# Pivot the data to have on observation for each region for each year-month. \n",
    "df_data_pivot = pd.pivot_table(df_data_2, values=to_obs, columns=to_keep)\n",
    "\n",
    "# Reset the index and rename year-month and values columns for easy identification.\n",
    "df_data_pivot = df_data_pivot.reset_index()\n",
    "df_data_pivot.rename(columns={'level_0':'date', 0:'value'}, inplace=True)\n",
    "\n",
    "# Convert data column to datetime \n",
    "df_data_pivot['date'] = pd.to_datetime(df_data_pivot['date'], infer_datetime_format=True)\n",
    "\n",
    "# Print first five rows\n",
    "df_data_pivot.sort_values(['RegionID', 'date']).head()"
   ]
  },
  {
   "cell_type": "markdown",
   "metadata": {},
   "source": [
    "Now that the data has been converted to a tidy data format, we need to check that each variable has the correct data type. The `date` variable is a date time object. The `value` variable should be a float or integer. The remaining variables should all be either objects or strings given that they descriptive data meant to identify each zip code. "
   ]
  },
  {
   "cell_type": "code",
   "execution_count": 10,
   "metadata": {},
   "outputs": [
    {
     "name": "stdout",
     "output_type": "stream",
     "text": [
      "(4233684, 9)\n",
      "date          datetime64[ns]\n",
      "RegionID               int64\n",
      "RegionName             int64\n",
      "City                  object\n",
      "State                 object\n",
      "Metro                 object\n",
      "CountyName            object\n",
      "SizeRank               int64\n",
      "value                float64\n",
      "dtype: object\n"
     ]
    }
   ],
   "source": [
    "# Check the size of the data. \n",
    "print(df_data_pivot.shape)\n",
    "\n",
    "# Check each columns data type so that there aren't any mismatched types (i.e RegionID should be an object, not o number)\n",
    "print(df_data_pivot.dtypes)\n",
    "\n",
    "# RegionID and Region name are identification tags and should therefore be objects. SizeRank is an ordinal value and should also be converted to an object\n",
    "df_data_pivot['RegionID'] = df_data_pivot['RegionID'].astype(object)\n",
    "df_data_pivot['RegionName'] = df_data_pivot['RegionName'].astype(object)\n",
    "df_data_pivot['SizeRank'] = df_data_pivot['SizeRank'].astype(object)"
   ]
  },
  {
   "cell_type": "markdown",
   "metadata": {},
   "source": [
    "### Data Analysis\n",
    "\n",
    "With each variable correctly assigned to a data type, we'll do some exploratory analysis. First, we should find the range of the data set, meaning what is the maximum and minimum dates. Then, we should know how many states, cities, and regions we are dealing with to gauge a better understanding of the size of the data. Finally, we would like to know the spread of the `value` column and check how this changes over the past 24 observations, both at the national level and state level.  "
   ]
  },
  {
   "cell_type": "code",
   "execution_count": 11,
   "metadata": {},
   "outputs": [
    {
     "name": "stdout",
     "output_type": "stream",
     "text": [
      "Oldest observation:  1996-04-01 00:00:00\n",
      "Newest observation:  2018-12-01 00:00:00 \n",
      "\n",
      "Number of states:  51\n",
      "Number of cities:  7957\n",
      "Number of zipcodes:  15508\n"
     ]
    }
   ],
   "source": [
    "# Print the first and last date of the data \n",
    "print('Oldest observation: ', df_data_pivot['date'].min())\n",
    "print('Newest observation: ', df_data_pivot['date'].max(), '\\n')\n",
    "\n",
    "# The data spans over 22 years, and has one observation per month. \n",
    "\n",
    "# Print the number of unique states, cities, and zipcodes\n",
    "print('Number of states: ', len(df_data_pivot['State'].unique()))\n",
    "print('Number of cities: ', len(df_data_pivot['City'].unique()))\n",
    "print('Number of zipcodes: ', len(df_data_pivot['RegionID'].unique()))"
   ]
  },
  {
   "cell_type": "markdown",
   "metadata": {},
   "source": [
    "First thing that immediately pops out is that there are 51 states registered. Let's see if we can find what's going on here. "
   ]
  },
  {
   "cell_type": "code",
   "execution_count": 12,
   "metadata": {},
   "outputs": [
    {
     "data": {
      "text/plain": [
       "array(['AK', 'AL', 'AR', 'AZ', 'CA', 'CO', 'CT', 'DC', 'DE', 'FL', 'GA',\n",
       "       'HI', 'IA', 'ID', 'IL', 'IN', 'KS', 'KY', 'LA', 'MA', 'MD', 'ME',\n",
       "       'MI', 'MN', 'MO', 'MS', 'MT', 'NC', 'ND', 'NE', 'NH', 'NJ', 'NM',\n",
       "       'NV', 'NY', 'OH', 'OK', 'OR', 'PA', 'RI', 'SC', 'SD', 'TN', 'TX',\n",
       "       'UT', 'VA', 'VT', 'WA', 'WI', 'WV', 'WY'], dtype=object)"
      ]
     },
     "execution_count": 12,
     "metadata": {},
     "output_type": "execute_result"
    }
   ],
   "source": [
    "# Sort the data by state and print the unique values as an array. \n",
    "df_data_pivot.sort_values('State')['State'].unique()"
   ]
  },
  {
   "cell_type": "markdown",
   "metadata": {},
   "source": [
    "Along with the 50 statet, the data shows the District of Columbia (DC) as a state independent of Virginia (VA).  \n",
    "With this cleared up, we'll check how the average values change over the past decade at both the national and state levels. We'll also explore which states saw the most change over this same period."
   ]
  },
  {
   "cell_type": "code",
   "execution_count": 13,
   "metadata": {},
   "outputs": [
    {
     "name": "stdout",
     "output_type": "stream",
     "text": [
      "          date      avg_value\n",
      "152 2008-12-01  224500.705378\n",
      "153 2009-01-01  223072.205997\n",
      "154 2009-02-01  221668.480284\n",
      "155 2009-03-01  220145.702758\n",
      "156 2009-04-01  218495.801840\n"
     ]
    },
    {
     "data": {
      "image/png": "[encoded data removed]",
      "text/plain": [
       "<matplotlib.figure.Figure at 0x2b326ba50a20>"
      ]
     },
     "metadata": {},
     "output_type": "display_data"
    }
   ],
   "source": [
    "# Create a new data frame to average value per date. Keep observations starting from December 2008 to plot. \n",
    "national = df_data_pivot.groupby('date')['value'].mean()\n",
    "national = national.reset_index()\n",
    "national.columns = ['date', 'avg_value']\n",
    "national = national[national['date']>='2008-12-01']\n",
    "print(national.head())\n",
    "\n",
    "# Plot the data as a line plot. \n",
    "national.plot(x='date', y='avg_value')\n",
    "_ = plt.xlabel('Date')\n",
    "_ = plt.ylabel('Avg Value')\n",
    "_ = plt.title('Avg Value by Date')\n",
    "plt.show()"
   ]
  },
  {
   "cell_type": "markdown",
   "metadata": {},
   "source": [
    "A very interesting pattern appears when we plot the data. The graph begins descending, reaching a trough around 2012, and then it strats growing once again. This could be the effect of the recession that hit the U.S. in 2008, dropping the values of many house markets. We can see however, that around 2012, the market started to recover and has grown at a steady rate.  \n",
    "How does this look at the state level? "
   ]
  },
  {
   "cell_type": "code",
   "execution_count": 14,
   "metadata": {},
   "outputs": [
    {
     "name": "stdout",
     "output_type": "stream",
     "text": [
      "           date state      avg_value\n",
      "7752 2008-12-01    AK  280985.714286\n",
      "7753 2008-12-01    AL  144065.725726\n",
      "7754 2008-12-01    AR  112872.546247\n",
      "7755 2008-12-01    AZ  229083.921762\n",
      "7756 2008-12-01    CA  477386.824583\n"
     ]
    },
    {
     "data": {
      "image/png": "[encoded data removed]",
      "text/plain": [
       "<matplotlib.figure.Figure at 0x2b327a5cf550>"
      ]
     },
     "metadata": {},
     "output_type": "display_data"
    }
   ],
   "source": [
    "# Create a new data frame starting from December 2008 but looking at values at the state level\n",
    "state = df_data_pivot.groupby(['date', 'State'])['value'].mean()\n",
    "state = state.reset_index()\n",
    "state.columns = ['date', 'state', 'avg_value']\n",
    "state = state[state['date']>='2008-12-01']\n",
    "print(state.head())\n",
    "\n",
    "# Pivot the data frame to produce multiple line plots\n",
    "state_df = state.pivot(index='date', columns='state', values='avg_value')\n",
    "\n",
    "# Plot the data\n",
    "state_df.plot()\n",
    "_ = plt.xlabel('Year')\n",
    "_ = plt.ylabel('Avg Value')\n",
    "_ = plt.title('Avg Value by Year')\n",
    "plt.legend(loc='center right', bbox_to_anchor=[1.25, 0])\n",
    "plt.show()"
   ]
  },
  {
   "cell_type": "markdown",
   "metadata": {},
   "source": [
    "Though plagued with a lot of noise at the state level, this graph tells us that there were three states that have recovered more than the remaining 48 states. Unfortunately, the legend is not very helpful as the line colors repeat themselves. However, the top three states have values above 700,000 by December 2018, which allows us to filter the data and identify these states. "
   ]
  },
  {
   "cell_type": "code",
   "execution_count": 15,
   "metadata": {},
   "outputs": [
    {
     "name": "stdout",
     "output_type": "stream",
     "text": [
      "      state      avg_value\n",
      "13879    DC  828905.555556\n",
      "13876    CA  748532.872254\n",
      "13883    HI  714603.225806\n"
     ]
    }
   ],
   "source": [
    "# Retain observations for December 2018. Then filter states with values above 700,000\n",
    "dec_2018 = state[state['date']=='2018-12-01']\n",
    "top_three = dec_2018[dec_2018['avg_value']>=700000]\n",
    "\n",
    "print(top_three[['state', 'avg_value']].sort_values('avg_value', ascending=False))"
   ]
  },
  {
   "cell_type": "markdown",
   "metadata": {},
   "source": [
    "California, the District of Columbia, and Hawaii are the states that didn't do as bad as the rest of the nation and have skyrocketed their values since the recovery from the recession. Any investment efforts should thus be focused their as they're likely to keep their upwards trend.  However, these numbers may be misleading. If we really want to know which market is more likely to see our investment grow at a faster rate, we should see percentage change over the last period. But, percentage change can be noisier on a month to month basis, so we'll calculate percentage change on a year to year basis. "
   ]
  },
  {
   "cell_type": "code",
   "execution_count": 16,
   "metadata": {},
   "outputs": [
    {
     "name": "stderr",
     "output_type": "stream",
     "text": [
      "/opt/ibm/conda/miniconda3/lib/python3.5/site-packages/ipykernel/__main__.py:6: SettingWithCopyWarning: \n",
      "A value is trying to be set on a copy of a slice from a DataFrame.\n",
      "Try using .loc[row_indexer,col_indexer] = value instead\n",
      "\n",
      "See the caveats in the documentation: http://pandas.pydata.org/pandas-docs/stable/indexing.html#indexing-view-versus-copy\n"
     ]
    },
    {
     "name": "stdout",
     "output_type": "stream",
     "text": [
      "            date state      avg_value  pct_change\n",
      "8364  2009-12-01    AK  283021.428571    0.007245\n",
      "8976  2010-12-01    AK  286346.428571    0.011748\n",
      "9588  2011-12-01    AK  290628.571429    0.014954\n",
      "10200 2012-12-01    AK  291882.142857    0.004313\n",
      "10812 2013-12-01    AK  299271.428571    0.025316\n"
     ]
    },
    {
     "data": {
      "image/png": "[encoded data removed]",
      "text/plain": [
       "<matplotlib.figure.Figure at 0x2b326bac8c18>"
      ]
     },
     "metadata": {},
     "output_type": "display_data"
    }
   ],
   "source": [
    "# Identify December observations\n",
    "dec_obs = state['date'].map(lambda x: x.month) == 12\n",
    "state_dec = state[dec_obs]\n",
    "\n",
    "# Calculate value percentage change for each state \n",
    "state_dec['pct_change'] = state_dec['avg_value'].div(state_dec.groupby('state')['avg_value'].shift(1))-1\n",
    "state_dec = state_dec.dropna()\n",
    "print(state_dec.sort_values(['state', 'date']).head()) \n",
    "\n",
    "# Plot the percentage changes for each state. \n",
    "state_pct_df = state_dec.pivot(index='date', columns='state', values='pct_change')\n",
    "\n",
    "# Plot the data\n",
    "state_pct_df.plot()\n",
    "_ = plt.xlabel('Year')\n",
    "_ = plt.ylabel('Value Change (%)')\n",
    "_ = plt.title('Value Change by Year')\n",
    "plt.legend(loc='center right', bbox_to_anchor=[1.25, 0])\n",
    "plt.show()"
   ]
  },
  {
   "cell_type": "markdown",
   "metadata": {},
   "source": [
    "The graph is noisier but we can see that there are five markets that grew more than 10 percent over the last year. Let's identify these states. "
   ]
  },
  {
   "cell_type": "code",
   "execution_count": 17,
   "metadata": {},
   "outputs": [
    {
     "name": "stdout",
     "output_type": "stream",
     "text": [
      "      state  pct_change\n",
      "13885    ID    0.145236\n",
      "13916    UT    0.131887\n",
      "13887    IN    0.123456\n",
      "13905    NV    0.121917\n",
      "13898    MT    0.103402\n"
     ]
    }
   ],
   "source": [
    "dec_2018_pct = state_dec[state_dec['date']=='2018-12-01']\n",
    "pct_10 = dec_2018_pct[dec_2018_pct['pct_change']>0.10]\n",
    "print(pct_10[['state', 'pct_change']].sort_values('pct_change', ascending=False))"
   ]
  },
  {
   "cell_type": "markdown",
   "metadata": {},
   "source": [
    "Though the District of Columbia, California, and Hawaii have increased their market value the most, Idaho, Utah, Indiana, Nevada, and Montana have increased their value the most by percentage. Perhaps it would be wiser to invest in these markets than the overpriced ones.  \n",
    "\n",
    "With this information, we could start answering some questions we might have. For example, how the Arkansas metro area has changed over time and, more specifically, how have the cities of Hot Springs, Little Rock, Fayetteville, and Searcy changed over time. "
   ]
  },
  {
   "cell_type": "code",
   "execution_count": 18,
   "metadata": {},
   "outputs": [
    {
     "data": {
      "text/html": [
       "<div>\n",
       "<style scoped>\n",
       "    .dataframe tbody tr th:only-of-type {\n",
       "        vertical-align: middle;\n",
       "    }\n",
       "\n",
       "    .dataframe tbody tr th {\n",
       "        vertical-align: top;\n",
       "    }\n",
       "\n",
       "    .dataframe thead th {\n",
       "        text-align: right;\n",
       "    }\n",
       "</style>\n",
       "<table border=\"1\" class=\"dataframe\">\n",
       "  <thead>\n",
       "    <tr style=\"text-align: right;\">\n",
       "      <th></th>\n",
       "      <th>date</th>\n",
       "      <th>RegionID</th>\n",
       "      <th>RegionName</th>\n",
       "      <th>City</th>\n",
       "      <th>State</th>\n",
       "      <th>Metro</th>\n",
       "      <th>CountyName</th>\n",
       "      <th>SizeRank</th>\n",
       "      <th>value</th>\n",
       "    </tr>\n",
       "  </thead>\n",
       "  <tbody>\n",
       "    <tr>\n",
       "      <th>11359</th>\n",
       "      <td>1996-04-01</td>\n",
       "      <td>89132</td>\n",
       "      <td>71602</td>\n",
       "      <td>White Hall</td>\n",
       "      <td>AR</td>\n",
       "      <td>Pine Bluff</td>\n",
       "      <td>Jefferson County</td>\n",
       "      <td>6454</td>\n",
       "      <td>NaN</td>\n",
       "    </tr>\n",
       "    <tr>\n",
       "      <th>11360</th>\n",
       "      <td>1996-04-01</td>\n",
       "      <td>89141</td>\n",
       "      <td>71639</td>\n",
       "      <td>Dumas</td>\n",
       "      <td>AR</td>\n",
       "      <td>AR NONMETROPOLITAN AREA</td>\n",
       "      <td>Desha County</td>\n",
       "      <td>9813</td>\n",
       "      <td>31600.0</td>\n",
       "    </tr>\n",
       "    <tr>\n",
       "      <th>11361</th>\n",
       "      <td>1996-04-01</td>\n",
       "      <td>89151</td>\n",
       "      <td>71654</td>\n",
       "      <td>McGehee</td>\n",
       "      <td>AR</td>\n",
       "      <td>AR NONMETROPOLITAN AREA</td>\n",
       "      <td>Desha County</td>\n",
       "      <td>11172</td>\n",
       "      <td>23100.0</td>\n",
       "    </tr>\n",
       "    <tr>\n",
       "      <th>11362</th>\n",
       "      <td>1996-04-01</td>\n",
       "      <td>89183</td>\n",
       "      <td>71742</td>\n",
       "      <td>Fordyce</td>\n",
       "      <td>AR</td>\n",
       "      <td>AR NONMETROPOLITAN AREA</td>\n",
       "      <td>Dallas County</td>\n",
       "      <td>10487</td>\n",
       "      <td>46660.0</td>\n",
       "    </tr>\n",
       "    <tr>\n",
       "      <th>11363</th>\n",
       "      <td>1996-04-01</td>\n",
       "      <td>89219</td>\n",
       "      <td>71836</td>\n",
       "      <td>Foreman</td>\n",
       "      <td>AR</td>\n",
       "      <td>Texarkana</td>\n",
       "      <td>Little River County</td>\n",
       "      <td>12805</td>\n",
       "      <td>51600.0</td>\n",
       "    </tr>\n",
       "  </tbody>\n",
       "</table>\n",
       "</div>"
      ],
      "text/plain": [
       "            date RegionID RegionName        City State  \\\n",
       "11359 1996-04-01    89132      71602  White Hall    AR   \n",
       "11360 1996-04-01    89141      71639       Dumas    AR   \n",
       "11361 1996-04-01    89151      71654     McGehee    AR   \n",
       "11362 1996-04-01    89183      71742     Fordyce    AR   \n",
       "11363 1996-04-01    89219      71836     Foreman    AR   \n",
       "\n",
       "                         Metro           CountyName SizeRank    value  \n",
       "11359               Pine Bluff     Jefferson County     6454      NaN  \n",
       "11360  AR NONMETROPOLITAN AREA         Desha County     9813  31600.0  \n",
       "11361  AR NONMETROPOLITAN AREA         Desha County    11172  23100.0  \n",
       "11362  AR NONMETROPOLITAN AREA        Dallas County    10487  46660.0  \n",
       "11363                Texarkana  Little River County    12805  51600.0  "
      ]
     },
     "execution_count": 18,
     "metadata": {},
     "output_type": "execute_result"
    }
   ],
   "source": [
    "# Filter the data, keeping only that for Arkansas and it's metro areo. \n",
    "arkansas = df_data_pivot[df_data_pivot['State'] == 'AR']\n",
    "arkansas.head()"
   ]
  },
  {
   "cell_type": "markdown",
   "metadata": {},
   "source": [
    "There are some NaN observations within the Arkansas data set. Let's do some quick analysis before moving on with the time series. "
   ]
  },
  {
   "cell_type": "code",
   "execution_count": 19,
   "metadata": {},
   "outputs": [
    {
     "name": "stdout",
     "output_type": "stream",
     "text": [
      "               value\n",
      "count   33889.000000\n",
      "mean   101371.376082\n",
      "std     42571.487169\n",
      "min     22700.000000\n",
      "25%     71700.000000\n",
      "50%     92400.000000\n",
      "75%    125300.000000\n",
      "max    330600.000000\n",
      "34398\n"
     ]
    }
   ],
   "source": [
    "# Let's first look at how the data is distributed and how many NaN there are \n",
    "print(arkansas.describe())\n",
    "print(len(arkansas))\n",
    "\n",
    "# There are 34,398 observations but only 33,889 have data, meaning that there are 509 missing variables. \n",
    "# Which data are we missing?"
   ]
  },
  {
   "cell_type": "code",
   "execution_count": 20,
   "metadata": {},
   "outputs": [
    {
     "data": {
      "text/plain": [
       "Metro\n",
       "Magnolia      167\n",
       "Pine Bluff    342\n",
       "Name: Metro, dtype: int64"
      ]
     },
     "execution_count": 20,
     "metadata": {},
     "output_type": "execute_result"
    }
   ],
   "source": [
    "# Keep NaN observations\n",
    "nan_values = arkansas[np.isnan(arkansas['value'])==True]\n",
    "\n",
    "# Count NaN by Metro\n",
    "nan_values.groupby('Metro')['Metro'].count()"
   ]
  },
  {
   "cell_type": "markdown",
   "metadata": {},
   "source": [
    "Not that bad, we're missing data for two metropolitan areas. Let's check to see how many counties are missing data. "
   ]
  },
  {
   "cell_type": "code",
   "execution_count": 21,
   "metadata": {},
   "outputs": [
    {
     "data": {
      "text/html": [
       "<div>\n",
       "<style scoped>\n",
       "    .dataframe tbody tr th:only-of-type {\n",
       "        vertical-align: middle;\n",
       "    }\n",
       "\n",
       "    .dataframe tbody tr th {\n",
       "        vertical-align: top;\n",
       "    }\n",
       "\n",
       "    .dataframe thead th {\n",
       "        text-align: right;\n",
       "    }\n",
       "</style>\n",
       "<table border=\"1\" class=\"dataframe\">\n",
       "  <thead>\n",
       "    <tr style=\"text-align: right;\">\n",
       "      <th></th>\n",
       "      <th>RegionID</th>\n",
       "      <th>RegionName</th>\n",
       "      <th>City</th>\n",
       "      <th>State</th>\n",
       "      <th>Metro</th>\n",
       "      <th>CountyName</th>\n",
       "      <th>SizeRank</th>\n",
       "      <th>1996-04</th>\n",
       "      <th>1996-05</th>\n",
       "      <th>1996-06</th>\n",
       "      <th>...</th>\n",
       "      <th>2018-03</th>\n",
       "      <th>2018-04</th>\n",
       "      <th>2018-05</th>\n",
       "      <th>2018-06</th>\n",
       "      <th>2018-07</th>\n",
       "      <th>2018-08</th>\n",
       "      <th>2018-09</th>\n",
       "      <th>2018-10</th>\n",
       "      <th>2018-11</th>\n",
       "      <th>2018-12</th>\n",
       "    </tr>\n",
       "  </thead>\n",
       "  <tbody>\n",
       "    <tr>\n",
       "      <th>6453</th>\n",
       "      <td>89132</td>\n",
       "      <td>71602</td>\n",
       "      <td>White Hall</td>\n",
       "      <td>AR</td>\n",
       "      <td>Pine Bluff</td>\n",
       "      <td>Jefferson County</td>\n",
       "      <td>6454</td>\n",
       "      <td>NaN</td>\n",
       "      <td>NaN</td>\n",
       "      <td>NaN</td>\n",
       "      <td>...</td>\n",
       "      <td>90600</td>\n",
       "      <td>92300</td>\n",
       "      <td>92600</td>\n",
       "      <td>92600</td>\n",
       "      <td>93300</td>\n",
       "      <td>94000</td>\n",
       "      <td>94800</td>\n",
       "      <td>95400</td>\n",
       "      <td>95700</td>\n",
       "      <td>96100</td>\n",
       "    </tr>\n",
       "    <tr>\n",
       "      <th>12206</th>\n",
       "      <td>89399</td>\n",
       "      <td>72132</td>\n",
       "      <td>Redfield</td>\n",
       "      <td>AR</td>\n",
       "      <td>Pine Bluff</td>\n",
       "      <td>Jefferson County</td>\n",
       "      <td>12207</td>\n",
       "      <td>NaN</td>\n",
       "      <td>NaN</td>\n",
       "      <td>NaN</td>\n",
       "      <td>...</td>\n",
       "      <td>110800</td>\n",
       "      <td>113900</td>\n",
       "      <td>116200</td>\n",
       "      <td>117200</td>\n",
       "      <td>118000</td>\n",
       "      <td>119500</td>\n",
       "      <td>121200</td>\n",
       "      <td>122500</td>\n",
       "      <td>123500</td>\n",
       "      <td>124200</td>\n",
       "    </tr>\n",
       "    <tr>\n",
       "      <th>13414</th>\n",
       "      <td>89239</td>\n",
       "      <td>71861</td>\n",
       "      <td>Taylor</td>\n",
       "      <td>AR</td>\n",
       "      <td>Magnolia</td>\n",
       "      <td>Columbia County</td>\n",
       "      <td>13415</td>\n",
       "      <td>NaN</td>\n",
       "      <td>NaN</td>\n",
       "      <td>NaN</td>\n",
       "      <td>...</td>\n",
       "      <td>71100</td>\n",
       "      <td>72200</td>\n",
       "      <td>70500</td>\n",
       "      <td>67300</td>\n",
       "      <td>65100</td>\n",
       "      <td>64400</td>\n",
       "      <td>64300</td>\n",
       "      <td>64200</td>\n",
       "      <td>64000</td>\n",
       "      <td>64000</td>\n",
       "    </tr>\n",
       "  </tbody>\n",
       "</table>\n",
       "<p>3 rows × 280 columns</p>\n",
       "</div>"
      ],
      "text/plain": [
       "       RegionID RegionName        City State       Metro        CountyName  \\\n",
       "6453      89132      71602  White Hall    AR  Pine Bluff  Jefferson County   \n",
       "12206     89399      72132    Redfield    AR  Pine Bluff  Jefferson County   \n",
       "13414     89239      71861      Taylor    AR    Magnolia   Columbia County   \n",
       "\n",
       "       SizeRank  1996-04  1996-05  1996-06   ...     2018-03  2018-04  \\\n",
       "6453       6454      NaN      NaN      NaN   ...       90600    92300   \n",
       "12206     12207      NaN      NaN      NaN   ...      110800   113900   \n",
       "13414     13415      NaN      NaN      NaN   ...       71100    72200   \n",
       "\n",
       "       2018-05  2018-06  2018-07  2018-08  2018-09  2018-10  2018-11  2018-12  \n",
       "6453     92600    92600    93300    94000    94800    95400    95700    96100  \n",
       "12206   116200   117200   118000   119500   121200   122500   123500   124200  \n",
       "13414    70500    67300    65100    64400    64300    64200    64000    64000  \n",
       "\n",
       "[3 rows x 280 columns]"
      ]
     },
     "execution_count": 21,
     "metadata": {},
     "output_type": "execute_result"
    }
   ],
   "source": [
    "df_data_2[(df_data_2['Metro'] == 'Magnolia') | (df_data_2['Metro'] == 'Pine Bluff')]"
   ]
  },
  {
   "cell_type": "markdown",
   "metadata": {},
   "source": [
    "It appears that the missing data will only affect three cities in two counties. We'll omit this observations from the subsequent analysis.  Let's check how Arkansas and, the four cities of Fayetteville, Searcy, Little Rock, and Hot Springs have changed over time. "
   ]
  },
  {
   "cell_type": "code",
   "execution_count": 22,
   "metadata": {},
   "outputs": [
    {
     "name": "stdout",
     "output_type": "stream",
     "text": [
      "            count           mean           std      min       25%       50%  \\\n",
      "date                                                                          \n",
      "2018-08-01  126.0  133406.349206  50102.366804  39400.0   99850.0  127800.0   \n",
      "2018-09-01  126.0  134175.396825  50226.190278  40200.0  100725.0  129050.0   \n",
      "2018-10-01  126.0  135175.396825  50279.297826  41000.0  100975.0  130100.0   \n",
      "2018-11-01  126.0  136267.460317  50331.659745  41600.0  102475.0  132650.0   \n",
      "2018-12-01  126.0  137015.079365  50453.733368  41800.0  102950.0  133550.0   \n",
      "\n",
      "                 75%       max  \n",
      "date                            \n",
      "2018-08-01  156275.0  329400.0  \n",
      "2018-09-01  156850.0  329800.0  \n",
      "2018-10-01  158025.0  330000.0  \n",
      "2018-11-01  159175.0  330400.0  \n",
      "2018-12-01  159900.0  330600.0  \n"
     ]
    }
   ],
   "source": [
    "# Variation over the last five months. \n",
    "print(arkansas.groupby('date')['value'].describe().tail())"
   ]
  },
  {
   "cell_type": "markdown",
   "metadata": {},
   "source": [
    "It appears that over the last five months of the data set, the average value of houses in Arkansas has increased steadily. Let's plot the data. "
   ]
  },
  {
   "cell_type": "code",
   "execution_count": 23,
   "metadata": {},
   "outputs": [
    {
     "data": {
      "image/png": "[encoded data removed]",
      "text/plain": [
       "<matplotlib.figure.Figure at 0x2b32b1b5efd0>"
      ]
     },
     "metadata": {},
     "output_type": "display_data"
    }
   ],
   "source": [
    "arkansas_avg = arkansas.groupby('date')['value'].mean()\n",
    "arkansas_avg.plot(x='date', y='value')\n",
    "_ = plt.xlabel('Year')\n",
    "_ = plt.ylabel('Avg Value')\n",
    "_ = plt.title('Avg Value per Year')\n",
    "plt.show()"
   ]
  },
  {
   "cell_type": "markdown",
   "metadata": {},
   "source": [
    "Over the past 20 years, the average value of houses in Arkansas has doubled. However, this increase has not been steady. The value almost doubled in the first ten years. Then, between 2008 and 2012, during the American recession, household values declined. But, the household value has increased at a faster pace in the last five years, recovering healthily from the crisis.  \n",
    "Now let's check how the four cities mentioned above compare to the rest of Arkansas. "
   ]
  },
  {
   "cell_type": "code",
   "execution_count": 24,
   "metadata": {
    "scrolled": false
   },
   "outputs": [
    {
     "data": {
      "image/png": "[encoded data removed]",
      "text/plain": [
       "<matplotlib.figure.Figure at 0x2b32b1b5ec50>"
      ]
     },
     "metadata": {},
     "output_type": "display_data"
    }
   ],
   "source": [
    "# Keep metro areas of Fayetteville, Hot Springs, Little Rock, Searcy\n",
    "arkansas_metro = arkansas[(arkansas['City']=='Fayetteville') |\n",
    "                          (arkansas['City']=='Hot Springs') |\n",
    "                          (arkansas['City']=='Little Rock') |\n",
    "                          (arkansas['City']=='Searcy')]\n",
    "\n",
    "# Calculate average household value of the metro areas and plot\n",
    "arkansas_metro_avg = arkansas_metro.groupby(['date', 'City'])['value'].mean()\n",
    "arkansas_metro_avg = arkansas_metro_avg.reset_index()\n",
    "\n",
    "# Pivot the table\n",
    "arkansas_metro_avg_pivot = arkansas_metro_avg.pivot(index='date', columns='City', values='value')\n",
    "\n",
    "# Plot\n",
    "arkansas_metro_avg_pivot.plot()\n",
    "_ = plt.xlabel('Year')\n",
    "_ = plt.ylabel('Avg Value')\n",
    "_ = plt.title('Avg Value per Year')\n",
    "plt.legend(loc='right', bbox_to_anchor=[1.3, 0.5])\n",
    "plt.show()"
   ]
  },
  {
   "cell_type": "markdown",
   "metadata": {},
   "source": [
    "The first thing that we notice is that Hot Springs and Searcy have followed the same patter as the rest of Arkansas. Fayettevill and Little Rock, however, have grown at a higher rate than the rest of the state. Nevertheless, we also notice that, of the four cities, only Fayettevill seems to have been affected by the recession; the other cities have seen more stability but not a serious decline.  \n",
    "Of the four cities, if we were to invest in one of the cities, it would be Little Rock, as it has been the most stable of the four over the past twenty years, even with a recession hitting the nation. "
   ]
  },
  {
   "cell_type": "markdown",
   "metadata": {},
   "source": [
    "### Model Building and Testing\n",
    "\n",
    "Now that we've done some initial analysis of the data and identified some of the states we're interested in investing along with the trendlines, we'll build a forecasting model trying to predict which market will grow the most and thus prove to be our best investment bet. For this, we'll take the data between 1996 and 2017 to be our training data set, while the 2018 data will be used as both our testing and validation set.  \n",
    "We'll first build our model focusing on three zip codes drawn at random. We'll look at an autocorrelation plot to find the best lag for the model and proceed to parameter tuning. After the initial model has been optimized, we'll build a larger forecaster based on the rest of the data set. "
   ]
  },
  {
   "cell_type": "code",
   "execution_count": 25,
   "metadata": {
    "scrolled": false
   },
   "outputs": [
    {
     "data": {
      "image/png": "[encoded data removed]",
      "text/plain": [
       "<matplotlib.figure.Figure at 0x2b32b933d160>"
      ]
     },
     "metadata": {},
     "output_type": "display_data"
    }
   ],
   "source": [
    "# Select a zip code to represent our data \n",
    "santa_monica = df_data_pivot[df_data_pivot['RegionName']==90403]\n",
    "woodbury = df_data_pivot[df_data_pivot['RegionName']==55125]\n",
    "glasgow = df_data_pivot[df_data_pivot['RegionName']==59230]\n",
    "\n",
    "# Set figure size\n",
    "plt.figure(figsize=(20,5))\n",
    "\n",
    "# Plot autocorrelation plot for 90403, 55125, and 59230 zip code to identify parameter starting point for ARIMA model\n",
    "ax1 = plt.subplot(131)\n",
    "plot_pacf(santa_monica.value, lags=50, ax=ax1)\n",
    "_ = plt.title('Santa Monica - PACF')\n",
    "\n",
    "ax2 = plt.subplot(132)\n",
    "plot_pacf(woodbury.value, lags=50, ax=ax2)\n",
    "_ = plt.title('Woodbury - PACF')\n",
    "\n",
    "ax3 = plt.subplot(133)\n",
    "plot_pacf(glasgow.value, lags=50, ax=ax3)\n",
    "_ = plt.title('Glasgow - PACF')\n",
    "\n",
    "plt.show()"
   ]
  },
  {
   "cell_type": "markdown",
   "metadata": {},
   "source": [
    "For the three zip codes we've chosen, we can see that the partial autocorrelation is one. We'll use this value as a starting point for the ARIMA model.  \n",
    "The model will first be built using the `santa_monica` data set, which will be transformed to keep the `value` variable as the only column, while the `date` variable will be turned into the index. Then, we'll split the data into a training set containing all data between 1996 and 2017; the testing set will consist of data from 2018.  "
   ]
  },
  {
   "cell_type": "code",
   "execution_count": 26,
   "metadata": {},
   "outputs": [],
   "source": [
    "# Transforming the Santa Monica subset \n",
    "santa_monica_simp = santa_monica[['date', 'value']]\n",
    "santa_monica_simp = santa_monica_simp.set_index('date')\n",
    "\n",
    "# Separate into training and test sets\n",
    "sm_train = santa_monica_simp.loc[:'2017-12-01']\n",
    "sm_test = santa_monica_simp.loc['2018-01-01':]"
   ]
  },
  {
   "cell_type": "markdown",
   "metadata": {},
   "source": [
    "With the train and test sets ready, we'll start with initial parameter tuning to find the optimized model on which to build the forecast. "
   ]
  },
  {
   "cell_type": "code",
   "execution_count": 27,
   "metadata": {},
   "outputs": [
    {
     "name": "stdout",
     "output_type": "stream",
     "text": [
      "Examples of parameter combinations for Seasonal ARIMA...\n",
      "SARIMAX: (1, 0, 1) x (1, 0, 1, 12)\n",
      "SARIMAX: (1, 0, 1) x (1, 1, 0, 12)\n",
      "SARIMAX: (1, 1, 0) x (1, 1, 1, 12)\n",
      "SARIMAX: (1, 1, 0) x (2, 0, 0, 12)\n"
     ]
    }
   ],
   "source": [
    "# Define the p, d and q parameters to take any value between 1 and 10\n",
    "p = range(1, 5)\n",
    "d = q = range(0, 2)\n",
    "\n",
    "# Generate all different combinations of p, q and q triplets\n",
    "pdq = list(itertools.product(p, d, q))\n",
    "\n",
    "# Generate all different combinations of seasonal p, q and q triplets\n",
    "seasonal_pdq = [(x[0], x[1], x[2], 12) for x in list(itertools.product(p, d, q))]\n",
    "\n",
    "print('Examples of parameter combinations for Seasonal ARIMA...')\n",
    "print('SARIMAX: {} x {}'.format(pdq[1], seasonal_pdq[1]))\n",
    "print('SARIMAX: {} x {}'.format(pdq[1], seasonal_pdq[2]))\n",
    "print('SARIMAX: {} x {}'.format(pdq[2], seasonal_pdq[3]))\n",
    "print('SARIMAX: {} x {}'.format(pdq[2], seasonal_pdq[4]))"
   ]
  },
  {
   "cell_type": "code",
   "execution_count": null,
   "metadata": {
    "scrolled": false
   },
   "outputs": [],
   "source": [
    "# Initiate list to store parameter conditions\n",
    "aic_results = []\n",
    "\n",
    "# Loop over parameter combinations and store them in list. \n",
    "for param in pdq:\n",
    "    for param_seasonal in seasonal_pdq:\n",
    "        try:\n",
    "            mod = sm.tsa.statespace.SARIMAX(sm_train, order=param, seasonal_order=param_seasonal, enforce_stationarity=False, enforce_invertibility=False)\n",
    "            results = mod.fit()\n",
    "            output = np.array([param, param_seasonal, results.aic])\n",
    "            aic_results.append(output)\n",
    "            #print('ARIMA{}x{}12 - AIC:{}'.format(param, param_seasonal, results.aic))\n",
    "        except:\n",
    "            continue"
   ]
  },
  {
   "cell_type": "code",
   "execution_count": 40,
   "metadata": {},
   "outputs": [
    {
     "data": {
      "text/plain": [
       "pdq                 (4, 1, 0)\n",
       "seasonal_pdq    (4, 1, 0, 12)\n",
       "aic                    3871.8\n",
       "Name: 238, dtype: object"
      ]
     },
     "execution_count": 40,
     "metadata": {},
     "output_type": "execute_result"
    }
   ],
   "source": [
    "# Convert aic_result list to dataframe and print lowest aic\n",
    "aic_results_df = pd.DataFrame(np.array(aic_results).reshape(-1,3))\n",
    "aic_results_df.columns = ['pdq', 'seasonal_pdq', 'aic']\n",
    "\n",
    "# Print lowest AIC\n",
    "aic_results_df.sort_values('aic').iloc[0]\n",
    "\n",
    "# Lowest AIC is 3871.8; we'll use these parameters to build the model. "
   ]
  },
  {
   "cell_type": "code",
   "execution_count": 29,
   "metadata": {},
   "outputs": [],
   "source": [
    "# Build the ARIMA model\n",
    "#model = ARIMA(sm_train.value, order=(5,1,0))\n",
    "#model_fit = model.fit(disp=0)\n",
    "#print(model_fit.summary())\n",
    "\n",
    "\n",
    "#history = [x for x in sm_train]\n",
    "#predictions = list()\n",
    "#for t in range(len(sm_test)):\n",
    "#    model = ARIMA(sm_train, order=(5,1,0))\n",
    "#    model_fit = model.fit(disp=0)\n",
    "#    output = model_fit.forecast()\n",
    "#    yhat = output[0]\n",
    "#    predictions.append(yhat)\n",
    "#    obs = sm_test[t]\n",
    "#    history.append(obs)\n",
    "#    print('predicted=%f, expected=%f' % (yhat, obs))\n",
    "#error = mean_squared_error(sm_test, predictions)\n",
    "#print('Test MSE: %.3f' % error)\n",
    "## plot\n",
    "#pyplot.plot(sm_test)\n",
    "#pyplot.plot(predictions, color='red')\n",
    "#pyplot.show()"
   ]
  },
  {
   "cell_type": "markdown",
   "metadata": {},
   "source": [
    "3. Develop model to forecast 2018 average median household value by zip code. Use 1997 - 2017 as training data. \n",
    "4. Focus model results in eight states (CA, DC, HI, ID, IN, MT, NV, UT)\n",
    "5. Top three investment opportunities in these eight states."
   ]
  },
  {
   "cell_type": "markdown",
   "metadata": {},
   "source": [
    "### Resources\n",
    "* https://machinelearningmastery.com/arima-for-time-series-forecasting-with-python/\n",
    "* https://www.digitalocean.com/community/tutorials/a-guide-to-time-series-forecasting-with-arima-in-python-3"
   ]
  },
  {
   "cell_type": "code",
   "execution_count": null,
   "metadata": {},
   "outputs": [],
   "source": []
  }
 ],
 "metadata": {
  "kernelspec": {
   "display_name": "Python 3",
   "language": "python",
   "name": "python3"
  },
  "language_info": {
   "codemirror_mode": {
    "name": "ipython",
    "version": 3
   },
   "file_extension": ".py",
   "mimetype": "text/x-python",
   "name": "python",
   "nbconvert_exporter": "python",
   "pygments_lexer": "ipython3",
   "version": "3.7.2"
  }
 },
 "nbformat": 4,
 "nbformat_minor": 2
}
